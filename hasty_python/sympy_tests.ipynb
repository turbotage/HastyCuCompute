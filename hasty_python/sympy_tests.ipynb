{
 "cells": [
  {
   "cell_type": "code",
   "execution_count": 1,
   "metadata": {},
   "outputs": [],
   "source": [
    "import sympy\n",
    "import sympy.simplify\n"
   ]
  },
  {
   "cell_type": "code",
   "execution_count": 2,
   "metadata": {},
   "outputs": [
    {
     "name": "stdout",
     "output_type": "stream",
     "text": [
      "IPython console for SymPy 1.13.3 (Python 3.11.11-64-bit) (ground types: python)\n",
      "\n",
      "These commands were executed:\n",
      ">>> from sympy import *\n",
      ">>> x, y, z, t = symbols('x y z t')\n",
      ">>> k, m, n = symbols('k m n', integer=True)\n",
      ">>> f, g, h = symbols('f g h', cls=Function)\n",
      ">>> init_printing()\n",
      "\n",
      "Documentation can be found at https://docs.sympy.org/1.13.3/\n",
      "\n"
     ]
    }
   ],
   "source": [
    "sympy.init_printing()\n",
    "sympy.init_session()"
   ]
  },
  {
   "cell_type": "code",
   "execution_count": 32,
   "metadata": {},
   "outputs": [],
   "source": [
    "t = sympy.Symbol('t')\n",
    "\n",
    "z_c = sympy.Symbol('z_c')\n",
    "r_c = sympy.Symbol('r_c')\n",
    "w_0 = sympy.Symbol('w_0')\n",
    "t_z = sympy.Symbol('t_z')\n",
    "t_r = sympy.Symbol('t_r')\n",
    "t_w = sympy.Symbol('t_w')"
   ]
  },
  {
   "cell_type": "code",
   "execution_count": 4,
   "metadata": {},
   "outputs": [],
   "source": [
    "k_z = z_c * sympy.sqrt(t)\n",
    "k_x = r_c * sympy.sqrt(t) * sympy.cos(w_0 * sympy.log(1+t))\n",
    "k_y = r_c * sympy.sqrt(t) * sympy.sin(w_0 * sympy.log(1+t))"
   ]
  },
  {
   "cell_type": "code",
   "execution_count": 5,
   "metadata": {},
   "outputs": [],
   "source": [
    "k_z = z_c * sympy.sqrt(t)\n",
    "k_x = r_c * sympy.sqrt(t) * sympy.cos(w_0 * sympy.sqrt(t))\n",
    "k_y = r_c * sympy.sqrt(t) * sympy.sin(w_0 * sympy.sqrt(t))"
   ]
  },
  {
   "cell_type": "code",
   "execution_count": 10,
   "metadata": {},
   "outputs": [],
   "source": [
    "k_z = z_c * t**t_e\n",
    "k_x = r_c * t * sympy.cos(w_0 * sympy.log(1+t))\n",
    "k_y = r_c * t * sympy.sin(w_0 * sympy.log(1+t))"
   ]
  },
  {
   "cell_type": "code",
   "execution_count": 26,
   "metadata": {},
   "outputs": [],
   "source": [
    "wt_func = sympy.Function('w')(t)\n",
    "\n",
    "k_z = z_c * t**t_z\n",
    "k_x = r_c * t**t_r * sympy.cos(wt_func)\n",
    "k_y = r_c * t**t_r * sympy.sin(wt_func)"
   ]
  },
  {
   "cell_type": "code",
   "execution_count": 39,
   "metadata": {},
   "outputs": [],
   "source": [
    "k_z = z_c * t**t_z\n",
    "k_x = r_c * t**t_r * sympy.cos(w_0 * t**t_w)\n",
    "k_y = r_c * t**t_r * sympy.sin(w_0 * t**t_w)"
   ]
  },
  {
   "cell_type": "code",
   "execution_count": 58,
   "metadata": {},
   "outputs": [],
   "source": [
    "k_z = z_c * t**t_z\n",
    "k_x = r_c * t**t_r * sympy.cos(w_0 * sympy.log(1+t))\n",
    "k_y = r_c * t**t_r * sympy.sin(w_0 * sympy.log(1+t))"
   ]
  },
  {
   "cell_type": "code",
   "execution_count": 52,
   "metadata": {},
   "outputs": [],
   "source": [
    "k_z = z_c * t\n",
    "k_x = r_c * sympy.sqrt(t) * sympy.cos(w_0 * sympy.sqrt(t))\n",
    "k_y = r_c * sympy.sqrt(t) * sympy.sin(w_0 * sympy.sqrt(t))"
   ]
  },
  {
   "cell_type": "code",
   "execution_count": 66,
   "metadata": {},
   "outputs": [],
   "source": [
    "k_z = z_c * t\n",
    "k_x = r_c * sympy.sqrt(t) * sympy.cos(w_0 * sympy.log(1+t))\n",
    "k_y = r_c * sympy.sqrt(t) * sympy.sin(w_0 * sympy.log(1+t))"
   ]
  },
  {
   "cell_type": "code",
   "execution_count": 79,
   "metadata": {},
   "outputs": [],
   "source": [
    "k_z = z_c * t * sympy.exp(-t_z * t)\n",
    "k_x = r_c * t * sympy.exp(-t_r * t) * sympy.cos(w_0 * sympy.sqrt(t))\n",
    "k_y = r_c * t * sympy.exp(-t_r * t) * sympy.sin(w_0 * sympy.sqrt(t))"
   ]
  },
  {
   "cell_type": "code",
   "execution_count": 82,
   "metadata": {},
   "outputs": [],
   "source": [
    "k_z = z_c * t * sympy.exp(-t)\n",
    "k_x = r_c * t * sympy.exp(-t) * sympy.cos(w_0 * sympy.sqrt(t))\n",
    "k_y = r_c * t * sympy.exp(-t) * sympy.sin(w_0 * sympy.sqrt(t))"
   ]
  },
  {
   "cell_type": "code",
   "execution_count": 83,
   "metadata": {},
   "outputs": [],
   "source": [
    "v_x = sympy.diff(k_x, t)\n",
    "v_y = sympy.diff(k_y, t)\n",
    "v_z = sympy.diff(k_z, t)\n"
   ]
  },
  {
   "cell_type": "code",
   "execution_count": 84,
   "metadata": {},
   "outputs": [
    {
     "data": {
      "image/png": "[encoded data removed]",
      "text/latex": [
       "$\\displaystyle \\left(r_{c}^{2} t^{2} + \\frac{r_{c}^{2} t w_{0}^{2}}{4} - 2 r_{c}^{2} t + r_{c}^{2} + t^{2} z_{c}^{2} - 2 t z_{c}^{2} + z_{c}^{2}\\right) e^{- 2 t}$"
      ],
      "text/plain": [
       "⎛             2     2                                              ⎞      \n",
       "⎜   2  2   r_c ⋅t⋅w₀         2        2    2    2          2      2⎟  -2⋅t\n",
       "⎜r_c ⋅t  + ────────── - 2⋅r_c ⋅t + r_c  + t ⋅z_c  - 2⋅t⋅z_c  + z_c ⎟⋅ℯ    \n",
       "⎝              4                                                   ⎠      "
      ]
     },
     "execution_count": 84,
     "metadata": {},
     "output_type": "execute_result"
    }
   ],
   "source": [
    "v2 = v_x*v_x + v_y*v_y + v_z*v_z\n",
    "v2 = sympy.simplify(v2)\n",
    "v2"
   ]
  },
  {
   "cell_type": "code",
   "execution_count": 51,
   "metadata": {},
   "outputs": [
    {
     "data": {
      "image/png": "[encoded data removed]",
      "text/latex": [
       "$\\displaystyle \\sqrt{\\frac{r_{c}^{2} t^{2 t_{r} + 2} \\left(t^{2} t_{r}^{2} + t^{2} w_{0}^{2} + 2 t t_{r}^{2} + t_{r}^{2}\\right) + t^{2 t_{z} + 2} t_{z}^{2} z_{c}^{2} \\left(t + 1\\right)^{2}}{t^{4} \\left(t + 1\\right)^{2}}}$"
      ],
      "text/plain": [
       "      ________________________________________________________________________ ↪\n",
       "     ╱    2  2⋅tᵣ + 2 ⎛ 2   2    2   2         2     2⎞    2⋅t_z + 2    2    2 ↪\n",
       "    ╱  r_c ⋅t        ⋅⎝t ⋅tᵣ  + t ⋅w₀  + 2⋅t⋅tᵣ  + tᵣ ⎠ + t         ⋅t_z ⋅z_c  ↪\n",
       "   ╱   ─────────────────────────────────────────────────────────────────────── ↪\n",
       "  ╱                                       4        2                           ↪\n",
       "╲╱                                       t ⋅(t + 1)                            ↪\n",
       "\n",
       "↪ __________\n",
       "↪         2 \n",
       "↪ ⋅(t + 1)  \n",
       "↪ ───────── \n",
       "↪           \n",
       "↪           "
      ]
     },
     "execution_count": 51,
     "metadata": {},
     "output_type": "execute_result"
    }
   ],
   "source": [
    "v = sympy.sqrt(v2)\n",
    "v = sympy.simplify(v)\n",
    "v"
   ]
  }
 ],
 "metadata": {
  "kernelspec": {
   "display_name": "symb",
   "language": "python",
   "name": "python3"
  },
  "language_info": {
   "codemirror_mode": {
    "name": "ipython",
    "version": 3
   },
   "file_extension": ".py",
   "mimetype": "text/x-python",
   "name": "python",
   "nbconvert_exporter": "python",
   "pygments_lexer": "ipython3",
   "version": "3.11.11"
  }
 },
 "nbformat": 4,
 "nbformat_minor": 2
}
