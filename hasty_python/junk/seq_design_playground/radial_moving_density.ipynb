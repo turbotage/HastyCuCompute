{
 "cells": [
  {
   "cell_type": "code",
   "execution_count": 1,
   "metadata": {},
   "outputs": [],
   "source": [
    "import sympy\n",
    "import sympy.simplify\n"
   ]
  },
  {
   "cell_type": "code",
   "execution_count": 2,
   "metadata": {},
   "outputs": [
    {
     "data": {
      "text/latex": [
       "$\\displaystyle \\frac{\\sqrt{2} e^{\\frac{\\left(\\sqrt{k_{x} x^{2} + k_{y} y^{2} + k_{z} z^{2}} - \\mu{\\left(t \\right)}\\right)^{2}}{2 \\sigma^{2}{\\left(t \\right)}}}}{2 \\sqrt{\\pi} \\sigma{\\left(t \\right)}}$"
      ],
      "text/plain": [
       "sqrt(2)*exp((sqrt(k_x*x**2 + k_y*y**2 + k_z*z**2) - \\mu(t))**2/(2*\\sigma(t)**2))/(2*sqrt(pi)*\\sigma(t))"
      ]
     },
     "execution_count": 2,
     "metadata": {},
     "output_type": "execute_result"
    }
   ],
   "source": [
    "x, y, z, t = sympy.symbols(['x', 'y', 'z', 't'])\n",
    "tmax = sympy.symbols('t_{max}', positive=True)\n",
    "kx, ky, kz = sympy.symbols(['k_x', 'k_y', 'k_z'], positive=True)\n",
    "\n",
    "sigma = sympy.Function('\\sigma')(t)\n",
    "mu = sympy.Function('\\mu')(t)\n",
    "A = sympy.Function('A')(t)\n",
    "\n",
    "N = sympy.exp((sympy.sqrt(kx*x**2 + ky*y**2 + kz*z**2) - mu)**2 / (2*sigma**2)) / (sigma * sympy.sqrt(2 * sympy.pi))\n",
    "N = sympy.simplify(N)\n",
    "N"
   ]
  },
  {
   "cell_type": "code",
   "execution_count": 3,
   "metadata": {},
   "outputs": [
    {
     "data": {
      "text/latex": [
       "$\\displaystyle 2 \\pi^{2} A{\\left(t \\right)} \\mu^{2}{\\left(t \\right)}$"
      ],
      "text/plain": [
       "2*pi**2*A(t)*\\mu(t)**2"
      ]
     },
     "execution_count": 3,
     "metadata": {},
     "output_type": "execute_result"
    }
   ],
   "source": [
    "Vt = 2 * A * (sympy.pi * mu)**2\n",
    "Vt"
   ]
  },
  {
   "cell_type": "code",
   "execution_count": 4,
   "metadata": {},
   "outputs": [
    {
     "data": {
      "text/latex": [
       "$\\displaystyle \\frac{2 \\pi^{2} t_{max}^{3}}{3}$"
      ],
      "text/plain": [
       "2*pi**2*t_{max}**3/3"
      ]
     },
     "execution_count": 4,
     "metadata": {},
     "output_type": "execute_result"
    }
   ],
   "source": [
    "Vt = Vt.subs({A: 1, mu: t})\n",
    "V = sympy.integrate(Vt, (t, 0, tmax))\n",
    "V\n"
   ]
  },
  {
   "cell_type": "code",
   "execution_count": 5,
   "metadata": {},
   "outputs": [
    {
     "data": {
      "text/latex": [
       "$\\displaystyle \\frac{3 \\sqrt{2} e^{\\frac{\\left(\\sqrt{k_{x} x^{2} + k_{y} y^{2} + k_{z} z^{2}} - \\mu{\\left(t \\right)}\\right)^{2}}{2 \\sigma^{2}{\\left(t \\right)}}}}{4 \\pi^{\\frac{5}{2}} t_{max}^{3} \\sigma{\\left(t \\right)}}$"
      ],
      "text/plain": [
       "3*sqrt(2)*exp((sqrt(k_x*x**2 + k_y*y**2 + k_z*z**2) - \\mu(t))**2/(2*\\sigma(t)**2))/(4*pi**(5/2)*t_{max}**3*\\sigma(t))"
      ]
     },
     "execution_count": 5,
     "metadata": {},
     "output_type": "execute_result"
    }
   ],
   "source": [
    "P = N / V\n",
    "P"
   ]
  },
  {
   "cell_type": "code",
   "execution_count": 6,
   "metadata": {},
   "outputs": [],
   "source": [
    "logP = sympy.log(P)"
   ]
  },
  {
   "cell_type": "code",
   "execution_count": 7,
   "metadata": {},
   "outputs": [
    {
     "data": {
      "text/latex": [
       "$\\displaystyle \\frac{- \\left(\\left(\\sqrt{k_{x} x^{2} + k_{y} y^{2} + k_{z} z^{2}} - \\mu{\\left(t \\right)}\\right) \\frac{d}{d t} \\sigma{\\left(t \\right)} + \\sigma{\\left(t \\right)} \\frac{d}{d t} \\mu{\\left(t \\right)}\\right) \\left(\\sqrt{k_{x} x^{2} + k_{y} y^{2} + k_{z} z^{2}} - \\mu{\\left(t \\right)}\\right) - \\sigma^{2}{\\left(t \\right)} \\frac{d}{d t} \\sigma{\\left(t \\right)}}{\\sigma^{3}{\\left(t \\right)}}$"
      ],
      "text/plain": [
       "(-((sqrt(k_x*x**2 + k_y*y**2 + k_z*z**2) - \\mu(t))*Derivative(\\sigma(t), t) + \\sigma(t)*Derivative(\\mu(t), t))*(sqrt(k_x*x**2 + k_y*y**2 + k_z*z**2) - \\mu(t)) - \\sigma(t)**2*Derivative(\\sigma(t), t))/\\sigma(t)**3"
      ]
     },
     "execution_count": 7,
     "metadata": {},
     "output_type": "execute_result"
    }
   ],
   "source": [
    "logP.diff(t).simplify()"
   ]
  },
  {
   "cell_type": "code",
   "execution_count": 8,
   "metadata": {},
   "outputs": [
    {
     "data": {
      "text/latex": [
       "$\\displaystyle \\frac{- k_{x} x^{2} \\sigma{\\left(t \\right)} \\frac{d^{2}}{d t^{2}} \\sigma{\\left(t \\right)} + 3 k_{x} x^{2} \\left(\\frac{d}{d t} \\sigma{\\left(t \\right)}\\right)^{2} - k_{y} y^{2} \\sigma{\\left(t \\right)} \\frac{d^{2}}{d t^{2}} \\sigma{\\left(t \\right)} + 3 k_{y} y^{2} \\left(\\frac{d}{d t} \\sigma{\\left(t \\right)}\\right)^{2} - k_{z} z^{2} \\sigma{\\left(t \\right)} \\frac{d^{2}}{d t^{2}} \\sigma{\\left(t \\right)} + 3 k_{z} z^{2} \\left(\\frac{d}{d t} \\sigma{\\left(t \\right)}\\right)^{2} + 2 \\sqrt{k_{x} x^{2} + k_{y} y^{2} + k_{z} z^{2}} \\mu{\\left(t \\right)} \\sigma{\\left(t \\right)} \\frac{d^{2}}{d t^{2}} \\sigma{\\left(t \\right)} - 6 \\sqrt{k_{x} x^{2} + k_{y} y^{2} + k_{z} z^{2}} \\mu{\\left(t \\right)} \\left(\\frac{d}{d t} \\sigma{\\left(t \\right)}\\right)^{2} - \\sqrt{k_{x} x^{2} + k_{y} y^{2} + k_{z} z^{2}} \\sigma^{2}{\\left(t \\right)} \\frac{d^{2}}{d t^{2}} \\mu{\\left(t \\right)} + 4 \\sqrt{k_{x} x^{2} + k_{y} y^{2} + k_{z} z^{2}} \\sigma{\\left(t \\right)} \\frac{d}{d t} \\mu{\\left(t \\right)} \\frac{d}{d t} \\sigma{\\left(t \\right)} - \\mu^{2}{\\left(t \\right)} \\sigma{\\left(t \\right)} \\frac{d^{2}}{d t^{2}} \\sigma{\\left(t \\right)} + 3 \\mu^{2}{\\left(t \\right)} \\left(\\frac{d}{d t} \\sigma{\\left(t \\right)}\\right)^{2} + \\mu{\\left(t \\right)} \\sigma^{2}{\\left(t \\right)} \\frac{d^{2}}{d t^{2}} \\mu{\\left(t \\right)} - 4 \\mu{\\left(t \\right)} \\sigma{\\left(t \\right)} \\frac{d}{d t} \\mu{\\left(t \\right)} \\frac{d}{d t} \\sigma{\\left(t \\right)} - \\sigma^{3}{\\left(t \\right)} \\frac{d^{2}}{d t^{2}} \\sigma{\\left(t \\right)} + \\sigma^{2}{\\left(t \\right)} \\left(\\frac{d}{d t} \\mu{\\left(t \\right)}\\right)^{2} + \\sigma^{2}{\\left(t \\right)} \\left(\\frac{d}{d t} \\sigma{\\left(t \\right)}\\right)^{2}}{\\sigma^{4}{\\left(t \\right)}}$"
      ],
      "text/plain": [
       "(-k_x*x**2*\\sigma(t)*Derivative(\\sigma(t), (t, 2)) + 3*k_x*x**2*Derivative(\\sigma(t), t)**2 - k_y*y**2*\\sigma(t)*Derivative(\\sigma(t), (t, 2)) + 3*k_y*y**2*Derivative(\\sigma(t), t)**2 - k_z*z**2*\\sigma(t)*Derivative(\\sigma(t), (t, 2)) + 3*k_z*z**2*Derivative(\\sigma(t), t)**2 + 2*sqrt(k_x*x**2 + k_y*y**2 + k_z*z**2)*\\mu(t)*\\sigma(t)*Derivative(\\sigma(t), (t, 2)) - 6*sqrt(k_x*x**2 + k_y*y**2 + k_z*z**2)*\\mu(t)*Derivative(\\sigma(t), t)**2 - sqrt(k_x*x**2 + k_y*y**2 + k_z*z**2)*\\sigma(t)**2*Derivative(\\mu(t), (t, 2)) + 4*sqrt(k_x*x**2 + k_y*y**2 + k_z*z**2)*\\sigma(t)*Derivative(\\mu(t), t)*Derivative(\\sigma(t), t) - \\mu(t)**2*\\sigma(t)*Derivative(\\sigma(t), (t, 2)) + 3*\\mu(t)**2*Derivative(\\sigma(t), t)**2 + \\mu(t)*\\sigma(t)**2*Derivative(\\mu(t), (t, 2)) - 4*\\mu(t)*\\sigma(t)*Derivative(\\mu(t), t)*Derivative(\\sigma(t), t) - \\sigma(t)**3*Derivative(\\sigma(t), (t, 2)) + \\sigma(t)**2*Derivative(\\mu(t), t)**2 + \\sigma(t)**2*Derivative(\\sigma(t), t)**2)/\\sigma(t)**4"
      ]
     },
     "execution_count": 8,
     "metadata": {},
     "output_type": "execute_result"
    }
   ],
   "source": [
    "logP.diff(t).diff(t).simplify()"
   ]
  },
  {
   "cell_type": "code",
   "execution_count": null,
   "metadata": {},
   "outputs": [],
   "source": [
    "logP.diff(x).simplify()"
   ]
  },
  {
   "cell_type": "code",
   "execution_count": null,
   "metadata": {},
   "outputs": [],
   "source": [
    "logP.diff(x).diff(x).simplify()"
   ]
  },
  {
   "cell_type": "code",
   "execution_count": null,
   "metadata": {},
   "outputs": [],
   "source": [
    "logP.diff(y).simplify()"
   ]
  },
  {
   "cell_type": "code",
   "execution_count": null,
   "metadata": {},
   "outputs": [],
   "source": [
    "logP.diff(y).diff(y).simplify()"
   ]
  },
  {
   "cell_type": "code",
   "execution_count": null,
   "metadata": {},
   "outputs": [],
   "source": [
    "logP.diff(z).simplify()"
   ]
  },
  {
   "cell_type": "code",
   "execution_count": null,
   "metadata": {},
   "outputs": [],
   "source": [
    "logP.diff(z).diff(z).simplify()"
   ]
  }
 ],
 "metadata": {
  "kernelspec": {
   "display_name": "phdnn",
   "language": "python",
   "name": "python3"
  },
  "language_info": {
   "codemirror_mode": {
    "name": "ipython",
    "version": 3
   },
   "file_extension": ".py",
   "mimetype": "text/x-python",
   "name": "python",
   "nbconvert_exporter": "python",
   "pygments_lexer": "ipython3",
   "version": "3.11.10"
  }
 },
 "nbformat": 4,
 "nbformat_minor": 2
}
