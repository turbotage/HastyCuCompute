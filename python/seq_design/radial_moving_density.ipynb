{
 "cells": [
  {
   "cell_type": "code",
   "execution_count": 1,
   "metadata": {},
   "outputs": [],
   "source": [
    "import sympy\n",
    "import sympy.simplify\n"
   ]
  },
  {
   "cell_type": "code",
   "execution_count": 2,
   "metadata": {},
   "outputs": [
    {
     "data": {
      "text/latex": [
       "$\\displaystyle \\frac{\\sqrt{2} e^{\\frac{\\left(\\sqrt{x^{2} + y^{2} + z^{2}} - \\mu{\\left(t \\right)}\\right)^{2}}{2 \\sigma^{2}{\\left(t \\right)}}}}{2 \\sqrt{\\pi} \\sigma{\\left(t \\right)}}$"
      ],
      "text/plain": [
       "sqrt(2)*exp((sqrt(x**2 + y**2 + z**2) - \\mu(t))**2/(2*\\sigma(t)**2))/(2*sqrt(pi)*\\sigma(t))"
      ]
     },
     "execution_count": 2,
     "metadata": {},
     "output_type": "execute_result"
    }
   ],
   "source": [
    "x, y, z, t = sympy.symbols(['x', 'y', 'z', 't'])\n",
    "tmax = sympy.symbols('t_{max}', positive=True)\n",
    "\n",
    "sigma = sympy.Function('\\sigma')(t)\n",
    "mu = sympy.Function('\\mu')(t)\n",
    "A = sympy.Function('A')(t)\n",
    "\n",
    "N = sympy.exp((sympy.sqrt(x**2 + y**2 + z**2) - mu)**2 / (2*sigma**2)) / (sigma * sympy.sqrt(2 * sympy.pi))\n",
    "N = sympy.simplify(N)\n",
    "N"
   ]
  },
  {
   "cell_type": "code",
   "execution_count": 3,
   "metadata": {},
   "outputs": [
    {
     "data": {
      "text/latex": [
       "$\\displaystyle 2 \\pi^{2} A{\\left(t \\right)} \\mu^{2}{\\left(t \\right)}$"
      ],
      "text/plain": [
       "2*pi**2*A(t)*\\mu(t)**2"
      ]
     },
     "execution_count": 3,
     "metadata": {},
     "output_type": "execute_result"
    }
   ],
   "source": [
    "Vt = 2 * A * (sympy.pi * mu)**2\n",
    "Vt"
   ]
  },
  {
   "cell_type": "code",
   "execution_count": 4,
   "metadata": {},
   "outputs": [
    {
     "data": {
      "text/latex": [
       "$\\displaystyle \\frac{2 \\pi^{2} t_{max}^{3}}{3}$"
      ],
      "text/plain": [
       "2*pi**2*t_{max}**3/3"
      ]
     },
     "execution_count": 4,
     "metadata": {},
     "output_type": "execute_result"
    }
   ],
   "source": [
    "Vt = Vt.subs({A: 1, mu: t})\n",
    "V = sympy.integrate(Vt, (t, 0, tmax))\n",
    "V\n"
   ]
  },
  {
   "cell_type": "code",
   "execution_count": 5,
   "metadata": {},
   "outputs": [
    {
     "data": {
      "text/latex": [
       "$\\displaystyle \\frac{3 \\sqrt{2} e^{\\frac{\\left(\\sqrt{x^{2} + y^{2} + z^{2}} - \\mu{\\left(t \\right)}\\right)^{2}}{2 \\sigma^{2}{\\left(t \\right)}}}}{4 \\pi^{\\frac{5}{2}} t_{max}^{3} \\sigma{\\left(t \\right)}}$"
      ],
      "text/plain": [
       "3*sqrt(2)*exp((sqrt(x**2 + y**2 + z**2) - \\mu(t))**2/(2*\\sigma(t)**2))/(4*pi**(5/2)*t_{max}**3*\\sigma(t))"
      ]
     },
     "execution_count": 5,
     "metadata": {},
     "output_type": "execute_result"
    }
   ],
   "source": [
    "P = N / V\n",
    "P"
   ]
  },
  {
   "cell_type": "code",
   "execution_count": 6,
   "metadata": {},
   "outputs": [],
   "source": [
    "logP = sympy.log(P)"
   ]
  },
  {
   "cell_type": "code",
   "execution_count": 7,
   "metadata": {},
   "outputs": [
    {
     "data": {
      "text/latex": [
       "$\\displaystyle \\frac{- \\left(\\left(\\sqrt{x^{2} + y^{2} + z^{2}} - \\mu{\\left(t \\right)}\\right) \\frac{d}{d t} \\sigma{\\left(t \\right)} + \\sigma{\\left(t \\right)} \\frac{d}{d t} \\mu{\\left(t \\right)}\\right) \\left(\\sqrt{x^{2} + y^{2} + z^{2}} - \\mu{\\left(t \\right)}\\right) - \\sigma^{2}{\\left(t \\right)} \\frac{d}{d t} \\sigma{\\left(t \\right)}}{\\sigma^{3}{\\left(t \\right)}}$"
      ],
      "text/plain": [
       "(-((sqrt(x**2 + y**2 + z**2) - \\mu(t))*Derivative(\\sigma(t), t) + \\sigma(t)*Derivative(\\mu(t), t))*(sqrt(x**2 + y**2 + z**2) - \\mu(t)) - \\sigma(t)**2*Derivative(\\sigma(t), t))/\\sigma(t)**3"
      ]
     },
     "execution_count": 7,
     "metadata": {},
     "output_type": "execute_result"
    }
   ],
   "source": [
    "logP.diff(t).simplify()"
   ]
  },
  {
   "cell_type": "code",
   "execution_count": 9,
   "metadata": {},
   "outputs": [
    {
     "data": {
      "text/latex": [
       "$\\displaystyle \\frac{x}{\\sigma^{2}{\\left(t \\right)}} - \\frac{x \\mu{\\left(t \\right)}}{\\sqrt{x^{2} + y^{2} + z^{2}} \\sigma^{2}{\\left(t \\right)}}$"
      ],
      "text/plain": [
       "x/\\sigma(t)**2 - x*\\mu(t)/(sqrt(x**2 + y**2 + z**2)*\\sigma(t)**2)"
      ]
     },
     "execution_count": 9,
     "metadata": {},
     "output_type": "execute_result"
    }
   ],
   "source": [
    "logP.diff(x).simplify()"
   ]
  },
  {
   "cell_type": "code",
   "execution_count": 10,
   "metadata": {},
   "outputs": [
    {
     "data": {
      "text/latex": [
       "$\\displaystyle \\frac{y}{\\sigma^{2}{\\left(t \\right)}} - \\frac{y \\mu{\\left(t \\right)}}{\\sqrt{x^{2} + y^{2} + z^{2}} \\sigma^{2}{\\left(t \\right)}}$"
      ],
      "text/plain": [
       "y/\\sigma(t)**2 - y*\\mu(t)/(sqrt(x**2 + y**2 + z**2)*\\sigma(t)**2)"
      ]
     },
     "execution_count": 10,
     "metadata": {},
     "output_type": "execute_result"
    }
   ],
   "source": [
    "logP.diff(y).simplify()"
   ]
  },
  {
   "cell_type": "code",
   "execution_count": 12,
   "metadata": {},
   "outputs": [
    {
     "data": {
      "text/latex": [
       "$\\displaystyle \\frac{z}{\\sigma^{2}{\\left(t \\right)}} - \\frac{z \\mu{\\left(t \\right)}}{\\sqrt{x^{2} + y^{2} + z^{2}} \\sigma^{2}{\\left(t \\right)}}$"
      ],
      "text/plain": [
       "z/\\sigma(t)**2 - z*\\mu(t)/(sqrt(x**2 + y**2 + z**2)*\\sigma(t)**2)"
      ]
     },
     "execution_count": 12,
     "metadata": {},
     "output_type": "execute_result"
    }
   ],
   "source": [
    "logP.diff(z).simplify()"
   ]
  }
 ],
 "metadata": {
  "kernelspec": {
   "display_name": "phdnn",
   "language": "python",
   "name": "python3"
  },
  "language_info": {
   "codemirror_mode": {
    "name": "ipython",
    "version": 3
   },
   "file_extension": ".py",
   "mimetype": "text/x-python",
   "name": "python",
   "nbconvert_exporter": "python",
   "pygments_lexer": "ipython3",
   "version": "3.11.10"
  }
 },
 "nbformat": 4,
 "nbformat_minor": 2
}
