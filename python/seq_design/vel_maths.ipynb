{
 "cells": [
  {
   "cell_type": "code",
   "execution_count": 1,
   "metadata": {},
   "outputs": [
    {
     "name": "stdout",
     "output_type": "stream",
     "text": [
      "IPython console for SymPy 1.13.2 (Python 3.11.10-64-bit) (ground types: gmpy)\n",
      "\n",
      "These commands were executed:\n",
      ">>> from sympy import *\n",
      ">>> x, y, z, t = symbols('x y z t')\n",
      ">>> k, m, n = symbols('k m n', integer=True)\n",
      ">>> f, g, h = symbols('f g h', cls=Function)\n",
      ">>> init_printing()\n",
      "\n",
      "Documentation can be found at https://docs.sympy.org/1.13.2/\n",
      "\n"
     ]
    }
   ],
   "source": [
    "import sympy\n",
    "import sympy.simplify\n",
    "\n",
    "from sympy import Integral, integrate, solve, solveset, roots, real_roots, Poly, QQ, ZZ\n",
    "\n",
    "sympy.init_printing()\n",
    "sympy.init_session()"
   ]
  },
  {
   "cell_type": "code",
   "execution_count": 2,
   "metadata": {},
   "outputs": [],
   "source": [
    "T = sympy.Symbol('T', real=True)\n",
    "DT = sympy.Symbol('\\Delta T', real=True)\n",
    "S = sympy.Symbol('S_r', real=True)\n",
    "\n",
    "DM = sympy.Symbol('\\Delta M', real=True)\n",
    "\n",
    "G = sympy.Symbol('G_{max}', real=True)\n",
    "\n",
    "L = sympy.Symbol('L', real=True)"
   ]
  },
  {
   "cell_type": "code",
   "execution_count": null,
   "metadata": {},
   "outputs": [],
   "source": []
  },
  {
   "cell_type": "markdown",
   "metadata": {},
   "source": []
  },
  {
   "cell_type": "code",
   "execution_count": 3,
   "metadata": {},
   "outputs": [
    {
     "data": {
      "image/png": "[encoded data removed]",
      "text/latex": [
       "$\\displaystyle S_{r} \\Delta T \\left(T^{2} + 3 T \\Delta T + 2 \\Delta T^{2}\\right)$"
      ],
      "text/plain": [
       "            ⎛ 2                            2⎞\n",
       "Sᵣ⋅\\Delta T⋅⎝T  + 3⋅T⋅\\Delta T + 2⋅\\Delta T ⎠"
      ]
     },
     "execution_count": 3,
     "metadata": {},
     "output_type": "execute_result"
    }
   ],
   "source": [
    "t = sympy.Symbol('t', real=True)\n",
    "\n",
    "\n",
    "interm1 = integrate(-S*t*t, (t, 0, DT))\n",
    "\n",
    "interm2 = integrate(-S*DT*(t+DT), (t, 0, T))\n",
    "\n",
    "interm3 = integrate(S*(t-DT)*(t + T + DT), (t, 0, 2*DT))\n",
    "\n",
    "interm4 = integrate(S*DT*(t + T + 3*DT), (t, 0, T))\n",
    "\n",
    "interm5 = integrate((S*(DT - t)*(t + 2*T + 3*DT)), (t, 0, DT))\n",
    "\n",
    "\n",
    "sum_tot = interm1 + interm2 + interm3 + interm4 + interm5\n",
    "\n",
    "sum_tot = sympy.simplify(sympy.expand(sum_tot))\n",
    "sum_tot\n"
   ]
  },
  {
   "cell_type": "code",
   "execution_count": 4,
   "metadata": {},
   "outputs": [
    {
     "data": {
      "image/png": "[encoded data removed]",
      "text/latex": [
       "$\\displaystyle \\left[ \\left\\{ T : \\frac{- 3 S_{r} \\Delta T^{2} - \\sqrt{S_{r} \\Delta T \\left(S_{r} \\Delta T^{3} + 4 \\Delta M\\right)}}{2 S_{r} \\Delta T}\\right\\}, \\  \\left\\{ T : \\frac{- 3 S_{r} \\Delta T^{2} + \\sqrt{S_{r} \\Delta T \\left(S_{r} \\Delta T^{3} + 4 \\Delta M\\right)}}{2 S_{r} \\Delta T}\\right\\}\\right]$"
      ],
      "text/plain": [
       "⎡⎧                         _________________________________________⎫  ⎧       ↪\n",
       "⎢⎪                  2     ╱             ⎛           3             ⎞ ⎪  ⎪       ↪\n",
       "⎢⎨   - 3⋅Sᵣ⋅\\Delta T  - ╲╱  Sᵣ⋅\\Delta T⋅⎝Sᵣ⋅\\Delta T  + 4⋅\\Delta M⎠ ⎬  ⎨   - 3 ↪\n",
       "⎢⎪T: ───────────────────────────────────────────────────────────────⎪, ⎪T: ─── ↪\n",
       "⎣⎩                            2⋅Sᵣ⋅\\Delta T                         ⎭  ⎩       ↪\n",
       "\n",
       "↪                    _________________________________________⎫⎤\n",
       "↪             2     ╱             ⎛           3             ⎞ ⎪⎥\n",
       "↪ ⋅Sᵣ⋅\\Delta T  + ╲╱  Sᵣ⋅\\Delta T⋅⎝Sᵣ⋅\\Delta T  + 4⋅\\Delta M⎠ ⎬⎥\n",
       "↪ ────────────────────────────────────────────────────────────⎪⎥\n",
       "↪                       2⋅Sᵣ⋅\\Delta T                         ⎭⎦"
      ]
     },
     "execution_count": 4,
     "metadata": {},
     "output_type": "execute_result"
    }
   ],
   "source": [
    "# Reaches Max Gradient\n",
    "soldict = solve([sum_tot - DM, DT - G / S], T, dict=True)\n",
    "soldict = [{k: sympy.simplify(v) for k, v in sdict.items()} for sdict in soldict]\n",
    "soldict"
   ]
  },
  {
   "cell_type": "code",
   "execution_count": 5,
   "metadata": {},
   "outputs": [
    {
     "data": {
      "image/png": "[encoded data removed]",
      "text/latex": [
       "$\\displaystyle \\left[ \\left\\{ \\Delta T : \\frac{2^{\\frac{2}{3}} \\sqrt[3]{\\frac{\\Delta M}{S_{r}}}}{2}\\right\\}, \\  \\left\\{ \\Delta T : \\frac{2^{\\frac{2}{3}} \\sqrt[3]{\\frac{\\Delta M}{S_{r}}} \\left(-1 - \\sqrt{3} i\\right)}{4}\\right\\}, \\  \\left\\{ \\Delta T : \\frac{2^{\\frac{2}{3}} \\sqrt[3]{\\frac{\\Delta M}{S_{r}}} \\left(-1 + \\sqrt{3} i\\right)}{4}\\right\\}\\right]$"
      ],
      "text/plain": [
       "⎡⎧                   __________⎫  ⎧                   __________            ⎫  ↪\n",
       "⎢⎪           2/3    ╱ \\Delta M ⎪  ⎪           2/3    ╱ \\Delta M             ⎪  ↪\n",
       "⎢⎪          2   ⋅3 ╱  ──────── ⎪  ⎪          2   ⋅3 ╱  ──────── ⋅(-1 - √3⋅ⅈ)⎪  ↪\n",
       "⎢⎨               ╲╱      Sᵣ    ⎬  ⎨               ╲╱      Sᵣ                ⎬  ↪\n",
       "⎢⎪\\Delta T: ───────────────────⎪, ⎪\\Delta T: ───────────────────────────────⎪, ↪\n",
       "⎢⎪                   2         ⎪  ⎪                         4               ⎪  ↪\n",
       "⎣⎩                             ⎭  ⎩                                         ⎭  ↪\n",
       "\n",
       "↪  ⎧                   __________            ⎫⎤\n",
       "↪  ⎪           2/3    ╱ \\Delta M             ⎪⎥\n",
       "↪  ⎪          2   ⋅3 ╱  ──────── ⋅(-1 + √3⋅ⅈ)⎪⎥\n",
       "↪  ⎨               ╲╱      Sᵣ                ⎬⎥\n",
       "↪  ⎪\\Delta T: ───────────────────────────────⎪⎥\n",
       "↪  ⎪                         4               ⎪⎥\n",
       "↪  ⎩                                         ⎭⎦"
      ]
     },
     "execution_count": 5,
     "metadata": {},
     "output_type": "execute_result"
    }
   ],
   "source": [
    "# Never reaches max gradient\n",
    "soldict = solve([DM - sympy.simplify(sympy.Subs(sum_tot, T, 0)), T], DT, dict=True)\n",
    "\n",
    "solexpr = (DM - sympy.simplify(sympy.Subs(sum_tot, T, 0)))\n",
    "solve([solexpr], DT, dict=True)\n",
    "soldict = [{k: sympy.simplify(v) for k, v in sdict.items()} for sdict in soldict]\n",
    "soldict"
   ]
  },
  {
   "cell_type": "code",
   "execution_count": 6,
   "metadata": {},
   "outputs": [
    {
     "data": {
      "image/png": "[encoded data removed]",
      "text/latex": [
       "$\\displaystyle \\left[ \\left\\{ \\Delta T : \\frac{L}{4} - \\frac{\\sqrt{L S_{r} \\left(L^{3} S_{r} - 32 \\Delta M\\right)}}{4 L S_{r}}\\right\\}, \\  \\left\\{ \\Delta T : \\frac{L}{4} + \\frac{\\sqrt{L S_{r} \\left(L^{3} S_{r} - 32 \\Delta M\\right)}}{4 L S_{r}}\\right\\}\\right]$"
      ],
      "text/plain": [
       "⎡⎧                 ____________________________⎫  ⎧                 __________ ↪\n",
       "⎢⎪                ╱      ⎛ 3                 ⎞ ⎪  ⎪                ╱      ⎛ 3  ↪\n",
       "⎢⎨          L   ╲╱  L⋅Sᵣ⋅⎝L ⋅Sᵣ - 32⋅\\Delta M⎠ ⎬  ⎨          L   ╲╱  L⋅Sᵣ⋅⎝L ⋅ ↪\n",
       "⎢⎪\\Delta T: ─ - ───────────────────────────────⎪, ⎪\\Delta T: ─ + ───────────── ↪\n",
       "⎣⎩          4               4⋅L⋅Sᵣ             ⎭  ⎩          4               4 ↪\n",
       "\n",
       "↪ __________________⎫⎤\n",
       "↪                 ⎞ ⎪⎥\n",
       "↪ Sᵣ - 32⋅\\Delta M⎠ ⎬⎥\n",
       "↪ ──────────────────⎪⎥\n",
       "↪ ⋅L⋅Sᵣ             ⎭⎦"
      ]
     },
     "execution_count": 6,
     "metadata": {},
     "output_type": "execute_result"
    }
   ],
   "source": [
    "# Solves for T and DT given total length of L = 2*T + 4*DT\n",
    "\n",
    "DT_expr = sympy.simplify(sympy.Subs(sum_tot, T, (L - 4*DT)/2))\n",
    "DT_dict = solve([DM - DT_expr], DT, dict=True)\n",
    "DT_dict\n"
   ]
  },
  {
   "cell_type": "code",
   "execution_count": 7,
   "metadata": {},
   "outputs": [
    {
     "data": {
      "image/png": "[encoded data removed]",
      "text/latex": [
       "$\\displaystyle \\left[ \\left\\{ T : - \\frac{\\sqrt{\\frac{L^{3} S_{r} - 32 \\Delta M}{L S_{r}}}}{2}\\right\\}, \\  \\left\\{ T : \\frac{\\sqrt{\\frac{L^{3} S_{r} - 32 \\Delta M}{L S_{r}}}}{2}\\right\\}\\right]$"
      ],
      "text/plain": [
       "⎡⎧         _____________________ ⎫  ⎧        _____________________⎫⎤\n",
       "⎢⎪        ╱  3                   ⎪  ⎪       ╱  3                  ⎪⎥\n",
       "⎢⎪       ╱  L ⋅Sᵣ - 32⋅\\Delta M  ⎪  ⎪      ╱  L ⋅Sᵣ - 32⋅\\Delta M ⎪⎥\n",
       "⎢⎨   -  ╱   ───────────────────  ⎬  ⎨     ╱   ─────────────────── ⎬⎥\n",
       "⎢⎪    ╲╱           L⋅Sᵣ          ⎪  ⎪   ╲╱           L⋅Sᵣ         ⎪⎥\n",
       "⎢⎪T: ────────────────────────────⎪, ⎪T: ──────────────────────────⎪⎥\n",
       "⎣⎩                2              ⎭  ⎩               2             ⎭⎦"
      ]
     },
     "execution_count": 7,
     "metadata": {},
     "output_type": "execute_result"
    }
   ],
   "source": [
    "# Solves for T and DT given total length of L = 2*T + 4*DT\n",
    "T_expr =  sympy.simplify(sympy.Subs(sum_tot, DT, (L - 2*T)/4))\n",
    "T_dict = solve([DM - T_expr], T, dict=True)\n",
    "T_dict"
   ]
  },
  {
   "cell_type": "code",
   "execution_count": 8,
   "metadata": {},
   "outputs": [
    {
     "name": "stdout",
     "output_type": "stream",
     "text": [
      "DT = (1/4)*(L**2*S_r + math.sqrt(L*S_r*(-32*DM + L**3*S_r)))/(L*S_r)\n",
      "\n",
      "T = (1/2)*math.sqrt(-32*DM/(L*S_r) + L**2)\n"
     ]
    }
   ],
   "source": [
    "from sympy.codegen.ast import Assignment\n",
    "from sympy.printing.pycode import PythonCodePrinter\n",
    "from sympy import pycode\n",
    "\n",
    "DMpy = sympy.Symbol('DM')\n",
    "DTpy = sympy.Symbol('DT')\n",
    "Tpy = sympy.Symbol('T')\n",
    "\n",
    "pyexpr_DT = sympy.simplify(sympy.Subs(DT_dict[-1][DT], DM, DMpy))\n",
    "\n",
    "commons, expr = sympy.cse(pyexpr_DT)\n",
    "for common in commons:\n",
    "    print(pycode(Assignment(*common)))\n",
    "print(pycode(Assignment(DTpy, expr[0])))\n",
    "\n",
    "print('')\n",
    "\n",
    "pyexpr_T =  sympy.simplify(\n",
    "                sympy.Subs(\n",
    "                    sympy.Subs(T_dict[-1][T], DM, DMpy),\n",
    "                    DT, DTpy\n",
    "                )\n",
    "            )\n",
    "\n",
    "commons, expr = sympy.cse(pyexpr_T)\n",
    "for common in commons:\n",
    "    print(pycode(Assignment(*common)))\n",
    "print(pycode(Assignment(Tpy, expr[0])))\n",
    "\n"
   ]
  }
 ],
 "metadata": {
  "kernelspec": {
   "display_name": "phdnn",
   "language": "python",
   "name": "python3"
  },
  "language_info": {
   "codemirror_mode": {
    "name": "ipython",
    "version": 3
   },
   "file_extension": ".py",
   "mimetype": "text/x-python",
   "name": "python",
   "nbconvert_exporter": "python",
   "pygments_lexer": "ipython3",
   "version": "3.11.10"
  }
 },
 "nbformat": 4,
 "nbformat_minor": 2
}
