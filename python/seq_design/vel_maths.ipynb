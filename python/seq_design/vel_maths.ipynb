{
 "cells": [
  {
   "cell_type": "code",
   "execution_count": 4,
   "metadata": {},
   "outputs": [
    {
     "name": "stdout",
     "output_type": "stream",
     "text": [
      "IPython console for SymPy 1.13.2 (Python 3.11.10-64-bit) (ground types: gmpy)\n",
      "\n",
      "These commands were executed:\n",
      ">>> from sympy import *\n",
      ">>> x, y, z, t = symbols('x y z t')\n",
      ">>> k, m, n = symbols('k m n', integer=True)\n",
      ">>> f, g, h = symbols('f g h', cls=Function)\n",
      ">>> init_printing()\n",
      "\n",
      "Documentation can be found at https://docs.sympy.org/1.13.2/\n",
      "\n"
     ]
    }
   ],
   "source": [
    "import sympy\n",
    "import sympy.simplify\n",
    "\n",
    "from sympy import Integral, integrate\n",
    "\n",
    "sympy.init_printing()\n",
    "sympy.init_session()"
   ]
  },
  {
   "cell_type": "code",
   "execution_count": 6,
   "metadata": {},
   "outputs": [],
   "source": [
    "T = sympy.Symbol('T')\n",
    "DT = sympy.Symbol('DT')\n",
    "S = sympy.Symbol('S')"
   ]
  },
  {
   "cell_type": "code",
   "execution_count": null,
   "metadata": {},
   "outputs": [],
   "source": []
  },
  {
   "cell_type": "code",
   "execution_count": 14,
   "metadata": {},
   "outputs": [
    {
     "name": "stdout",
     "output_type": "stream",
     "text": [
      "DT*S*(2*DT**2 + 3*DT*T + T**2)\n"
     ]
    }
   ],
   "source": [
    "t = sympy.Symbol('t')\n",
    "\n",
    "\n",
    "interm1 = integrate(-S*t*t, (t, 0, DT))\n",
    "\n",
    "interm2 = integrate(-S*DT*(t+DT), (t, 0, T))\n",
    "\n",
    "interm3 = integrate(S*(t-DT)*(t + T + DT), (t, 0, 2*DT))\n",
    "\n",
    "interm4 = integrate(S*DT*(t + T + 3*DT), (t, 0, T))\n",
    "\n",
    "interm5 = integrate((S*(DT - t)*(t + 2*T + 3*DT)), (t, 0, DT))\n",
    "\n",
    "\n",
    "sum_tot = interm1 + interm2 + interm3 + interm4 + interm5\n",
    "\n",
    "sum_tot = sympy.simplify(sympy.expand(sum_tot))\n",
    "\n",
    "print(sum_tot)"
   ]
  }
 ],
 "metadata": {
  "kernelspec": {
   "display_name": "phdnn",
   "language": "python",
   "name": "python3"
  },
  "language_info": {
   "codemirror_mode": {
    "name": "ipython",
    "version": 3
   },
   "file_extension": ".py",
   "mimetype": "text/x-python",
   "name": "python",
   "nbconvert_exporter": "python",
   "pygments_lexer": "ipython3",
   "version": "3.11.10"
  }
 },
 "nbformat": 4,
 "nbformat_minor": 2
}
